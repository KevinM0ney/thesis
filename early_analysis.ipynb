{
 "cells": [
  {
   "cell_type": "code",
   "id": "initial_id",
   "metadata": {
    "collapsed": true,
    "ExecuteTime": {
     "end_time": "2025-01-27T17:24:38.282650Z",
     "start_time": "2025-01-27T17:24:38.278723Z"
    }
   },
   "source": [
    "import pandas as pd\n",
    "import warnings\n",
    "\n",
    "warnings.filterwarnings('ignore')"
   ],
   "outputs": [],
   "execution_count": 8
  },
  {
   "metadata": {
    "ExecuteTime": {
     "end_time": "2025-01-27T17:24:38.790794Z",
     "start_time": "2025-01-27T17:24:38.729760Z"
    }
   },
   "cell_type": "code",
   "source": [
    "df = pd.read_csv(\"articles_with_topics_final.csv\")\n",
    "df['date'] = pd.to_datetime(df['date'], format='mixed')"
   ],
   "id": "1388b1d433579974",
   "outputs": [],
   "execution_count": 9
  },
  {
   "metadata": {
    "ExecuteTime": {
     "end_time": "2025-01-27T17:24:48.658127Z",
     "start_time": "2025-01-27T17:24:48.650978Z"
    }
   },
   "cell_type": "code",
   "source": [
    "newspaper_stats = df['newspaper'].value_counts()\n",
    "print(\"Distribuzione dei giornali:\\n\", newspaper_stats)"
   ],
   "id": "2a8800a14ca5d741",
   "outputs": [
    {
     "name": "stdout",
     "output_type": "stream",
     "text": [
      "Distribuzione dei giornali:\n",
      " newspaper\n",
      "IlSole24ORE            2835\n",
      "The Guardian           2176\n",
      "Wired                  1727\n",
      "AI4Business            1461\n",
      "The New York Times      519\n",
      "AI News                 123\n",
      "Corriere della Sera      62\n",
      "Name: count, dtype: int64\n"
     ]
    }
   ],
   "execution_count": 10
  },
  {
   "metadata": {
    "ExecuteTime": {
     "end_time": "2025-01-27T17:25:43.024936Z",
     "start_time": "2025-01-27T17:25:43.020225Z"
    }
   },
   "cell_type": "code",
   "source": [
    "date_stats = df['year'].value_counts()\n",
    "print(\"\\nStatistiche sulla data:\\n\", date_stats)"
   ],
   "id": "1babc892ac9d2183",
   "outputs": [
    {
     "name": "stdout",
     "output_type": "stream",
     "text": [
      "\n",
      "Statistiche sulla data:\n",
      " year\n",
      "2024    4362\n",
      "2023    3520\n",
      "2022    1021\n",
      "Name: count, dtype: int64\n"
     ]
    }
   ],
   "execution_count": 12
  },
  {
   "metadata": {
    "ExecuteTime": {
     "end_time": "2025-01-27T17:25:57.146301Z",
     "start_time": "2025-01-27T17:25:57.136914Z"
    }
   },
   "cell_type": "code",
   "source": [
    "title_lengths = df['title'].apply(len)\n",
    "title_stats = title_lengths.describe()\n",
    "print(\"\\nStatistiche sulla lunghezza dei titoli:\\n\", title_stats)"
   ],
   "id": "9e5a8813aa301b1b",
   "outputs": [
    {
     "name": "stdout",
     "output_type": "stream",
     "text": [
      "\n",
      "Statistiche sulla lunghezza dei titoli:\n",
      " count    8903.000000\n",
      "mean       79.310682\n",
      "std        30.794692\n",
      "min         8.000000\n",
      "25%        59.000000\n",
      "50%        74.000000\n",
      "75%        96.000000\n",
      "max       244.000000\n",
      "Name: title, dtype: float64\n"
     ]
    }
   ],
   "execution_count": 13
  },
  {
   "metadata": {},
   "cell_type": "code",
   "outputs": [],
   "execution_count": null,
   "source": "",
   "id": "867614fd11cc8b52"
  }
 ],
 "metadata": {
  "kernelspec": {
   "display_name": "Python 3",
   "language": "python",
   "name": "python3"
  },
  "language_info": {
   "codemirror_mode": {
    "name": "ipython",
    "version": 2
   },
   "file_extension": ".py",
   "mimetype": "text/x-python",
   "name": "python",
   "nbconvert_exporter": "python",
   "pygments_lexer": "ipython2",
   "version": "2.7.6"
  }
 },
 "nbformat": 4,
 "nbformat_minor": 5
}
